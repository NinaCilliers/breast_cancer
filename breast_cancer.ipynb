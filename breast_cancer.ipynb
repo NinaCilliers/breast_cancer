{
 "cells": [
  {
   "cell_type": "code",
   "execution_count": 1418,
   "metadata": {},
   "outputs": [],
   "source": [
    "import pandas as pd\n",
    "import os\n",
    "import missingno as msno\n",
    "import matplotlib.pyplot as plt\n",
    "import seaborn as sns\n",
    "import numpy as np"
   ]
  },
  {
   "cell_type": "code",
   "execution_count": 1419,
   "metadata": {},
   "outputs": [
    {
     "data": {
      "text/plain": [
       "'C:\\\\Users\\\\corne\\\\OneDrive\\\\Documents\\\\DS_Portfolio\\\\breast_cancer'"
      ]
     },
     "execution_count": 1419,
     "metadata": {},
     "output_type": "execute_result"
    }
   ],
   "source": [
    "os.chdir('C:\\\\Users\\\\corne\\\\OneDrive\\\\Documents\\\\DS_Portfolio\\\\breast_cancer')\n",
    "os.getcwd()"
   ]
  },
  {
   "attachments": {},
   "cell_type": "markdown",
   "metadata": {},
   "source": [
    "# Data\n",
    "\n",
    "## Importing"
   ]
  },
  {
   "cell_type": "code",
   "execution_count": 1420,
   "metadata": {},
   "outputs": [
    {
     "data": {
      "text/html": [
       "<div>\n",
       "<style scoped>\n",
       "    .dataframe tbody tr th:only-of-type {\n",
       "        vertical-align: middle;\n",
       "    }\n",
       "\n",
       "    .dataframe tbody tr th {\n",
       "        vertical-align: top;\n",
       "    }\n",
       "\n",
       "    .dataframe thead th {\n",
       "        text-align: right;\n",
       "    }\n",
       "</style>\n",
       "<table border=\"1\" class=\"dataframe\">\n",
       "  <thead>\n",
       "    <tr style=\"text-align: right;\">\n",
       "      <th></th>\n",
       "      <th>patient_id</th>\n",
       "      <th>age_at_diagnosis</th>\n",
       "      <th>type_of_breast_surgery</th>\n",
       "      <th>cancer_type</th>\n",
       "      <th>cancer_type_detailed</th>\n",
       "      <th>cellularity</th>\n",
       "      <th>chemotherapy</th>\n",
       "      <th>pam50_+_claudin-low_subtype</th>\n",
       "      <th>cohort</th>\n",
       "      <th>er_status_measured_by_ihc</th>\n",
       "      <th>...</th>\n",
       "      <th>mtap_mut</th>\n",
       "      <th>ppp2cb_mut</th>\n",
       "      <th>smarcd1_mut</th>\n",
       "      <th>nras_mut</th>\n",
       "      <th>ndfip1_mut</th>\n",
       "      <th>hras_mut</th>\n",
       "      <th>prps2_mut</th>\n",
       "      <th>smarcb1_mut</th>\n",
       "      <th>stmn2_mut</th>\n",
       "      <th>siah1_mut</th>\n",
       "    </tr>\n",
       "  </thead>\n",
       "  <tbody>\n",
       "    <tr>\n",
       "      <th>0</th>\n",
       "      <td>0</td>\n",
       "      <td>75.65</td>\n",
       "      <td>MASTECTOMY</td>\n",
       "      <td>Breast Cancer</td>\n",
       "      <td>Breast Invasive Ductal Carcinoma</td>\n",
       "      <td>NaN</td>\n",
       "      <td>0</td>\n",
       "      <td>claudin-low</td>\n",
       "      <td>1.0</td>\n",
       "      <td>Positve</td>\n",
       "      <td>...</td>\n",
       "      <td>0</td>\n",
       "      <td>0</td>\n",
       "      <td>0</td>\n",
       "      <td>0</td>\n",
       "      <td>0</td>\n",
       "      <td>0</td>\n",
       "      <td>0</td>\n",
       "      <td>0</td>\n",
       "      <td>0</td>\n",
       "      <td>0</td>\n",
       "    </tr>\n",
       "    <tr>\n",
       "      <th>1</th>\n",
       "      <td>2</td>\n",
       "      <td>43.19</td>\n",
       "      <td>BREAST CONSERVING</td>\n",
       "      <td>Breast Cancer</td>\n",
       "      <td>Breast Invasive Ductal Carcinoma</td>\n",
       "      <td>High</td>\n",
       "      <td>0</td>\n",
       "      <td>LumA</td>\n",
       "      <td>1.0</td>\n",
       "      <td>Positve</td>\n",
       "      <td>...</td>\n",
       "      <td>0</td>\n",
       "      <td>0</td>\n",
       "      <td>0</td>\n",
       "      <td>0</td>\n",
       "      <td>0</td>\n",
       "      <td>0</td>\n",
       "      <td>0</td>\n",
       "      <td>0</td>\n",
       "      <td>0</td>\n",
       "      <td>0</td>\n",
       "    </tr>\n",
       "    <tr>\n",
       "      <th>2</th>\n",
       "      <td>5</td>\n",
       "      <td>48.87</td>\n",
       "      <td>MASTECTOMY</td>\n",
       "      <td>Breast Cancer</td>\n",
       "      <td>Breast Invasive Ductal Carcinoma</td>\n",
       "      <td>High</td>\n",
       "      <td>1</td>\n",
       "      <td>LumB</td>\n",
       "      <td>1.0</td>\n",
       "      <td>Positve</td>\n",
       "      <td>...</td>\n",
       "      <td>0</td>\n",
       "      <td>0</td>\n",
       "      <td>0</td>\n",
       "      <td>0</td>\n",
       "      <td>0</td>\n",
       "      <td>0</td>\n",
       "      <td>0</td>\n",
       "      <td>0</td>\n",
       "      <td>0</td>\n",
       "      <td>0</td>\n",
       "    </tr>\n",
       "    <tr>\n",
       "      <th>3</th>\n",
       "      <td>6</td>\n",
       "      <td>47.68</td>\n",
       "      <td>MASTECTOMY</td>\n",
       "      <td>Breast Cancer</td>\n",
       "      <td>Breast Mixed Ductal and Lobular Carcinoma</td>\n",
       "      <td>Moderate</td>\n",
       "      <td>1</td>\n",
       "      <td>LumB</td>\n",
       "      <td>1.0</td>\n",
       "      <td>Positve</td>\n",
       "      <td>...</td>\n",
       "      <td>0</td>\n",
       "      <td>0</td>\n",
       "      <td>0</td>\n",
       "      <td>0</td>\n",
       "      <td>0</td>\n",
       "      <td>0</td>\n",
       "      <td>0</td>\n",
       "      <td>0</td>\n",
       "      <td>0</td>\n",
       "      <td>0</td>\n",
       "    </tr>\n",
       "    <tr>\n",
       "      <th>4</th>\n",
       "      <td>8</td>\n",
       "      <td>76.97</td>\n",
       "      <td>MASTECTOMY</td>\n",
       "      <td>Breast Cancer</td>\n",
       "      <td>Breast Mixed Ductal and Lobular Carcinoma</td>\n",
       "      <td>High</td>\n",
       "      <td>1</td>\n",
       "      <td>LumB</td>\n",
       "      <td>1.0</td>\n",
       "      <td>Positve</td>\n",
       "      <td>...</td>\n",
       "      <td>0</td>\n",
       "      <td>0</td>\n",
       "      <td>0</td>\n",
       "      <td>0</td>\n",
       "      <td>0</td>\n",
       "      <td>0</td>\n",
       "      <td>0</td>\n",
       "      <td>0</td>\n",
       "      <td>0</td>\n",
       "      <td>0</td>\n",
       "    </tr>\n",
       "  </tbody>\n",
       "</table>\n",
       "<p>5 rows × 693 columns</p>\n",
       "</div>"
      ],
      "text/plain": [
       "   patient_id  age_at_diagnosis type_of_breast_surgery    cancer_type  \\\n",
       "0           0             75.65             MASTECTOMY  Breast Cancer   \n",
       "1           2             43.19      BREAST CONSERVING  Breast Cancer   \n",
       "2           5             48.87             MASTECTOMY  Breast Cancer   \n",
       "3           6             47.68             MASTECTOMY  Breast Cancer   \n",
       "4           8             76.97             MASTECTOMY  Breast Cancer   \n",
       "\n",
       "                        cancer_type_detailed cellularity  chemotherapy  \\\n",
       "0           Breast Invasive Ductal Carcinoma         NaN             0   \n",
       "1           Breast Invasive Ductal Carcinoma        High             0   \n",
       "2           Breast Invasive Ductal Carcinoma        High             1   \n",
       "3  Breast Mixed Ductal and Lobular Carcinoma    Moderate             1   \n",
       "4  Breast Mixed Ductal and Lobular Carcinoma        High             1   \n",
       "\n",
       "  pam50_+_claudin-low_subtype  cohort er_status_measured_by_ihc  ... mtap_mut  \\\n",
       "0                 claudin-low     1.0                   Positve  ...        0   \n",
       "1                        LumA     1.0                   Positve  ...        0   \n",
       "2                        LumB     1.0                   Positve  ...        0   \n",
       "3                        LumB     1.0                   Positve  ...        0   \n",
       "4                        LumB     1.0                   Positve  ...        0   \n",
       "\n",
       "   ppp2cb_mut smarcd1_mut nras_mut ndfip1_mut  hras_mut prps2_mut smarcb1_mut  \\\n",
       "0           0           0        0          0         0         0           0   \n",
       "1           0           0        0          0         0         0           0   \n",
       "2           0           0        0          0         0         0           0   \n",
       "3           0           0        0          0         0         0           0   \n",
       "4           0           0        0          0         0         0           0   \n",
       "\n",
       "  stmn2_mut  siah1_mut  \n",
       "0         0          0  \n",
       "1         0          0  \n",
       "2         0          0  \n",
       "3         0          0  \n",
       "4         0          0  \n",
       "\n",
       "[5 rows x 693 columns]"
      ]
     },
     "execution_count": 1420,
     "metadata": {},
     "output_type": "execute_result"
    }
   ],
   "source": [
    "df = pd.read_csv('METABRIC_RNA_Mutation.csv',low_memory=False)\n",
    "df.head()"
   ]
  },
  {
   "cell_type": "code",
   "execution_count": null,
   "metadata": {},
   "outputs": [],
   "source": []
  },
  {
   "cell_type": "code",
   "execution_count": 1421,
   "metadata": {},
   "outputs": [
    {
     "data": {
      "text/plain": [
       "Index(['patient_id', 'age_at_diagnosis', 'type_of_breast_surgery',\n",
       "       'cancer_type', 'cancer_type_detailed', 'cellularity', 'chemotherapy',\n",
       "       'pam50_+_claudin-low_subtype', 'cohort', 'er_status_measured_by_ihc',\n",
       "       'er_status', 'neoplasm_histologic_grade',\n",
       "       'her2_status_measured_by_snp6', 'her2_status',\n",
       "       'tumor_other_histologic_subtype', 'hormone_therapy',\n",
       "       'inferred_menopausal_state', 'integrative_cluster',\n",
       "       'primary_tumor_laterality', 'lymph_nodes_examined_positive',\n",
       "       'mutation_count', 'nottingham_prognostic_index', 'oncotree_code',\n",
       "       'overall_survival_months', 'overall_survival', 'pr_status',\n",
       "       'radio_therapy', '3-gene_classifier_subtype', 'tumor_size',\n",
       "       'tumor_stage', 'death_from_cancer'],\n",
       "      dtype='object')"
      ]
     },
     "execution_count": 1421,
     "metadata": {},
     "output_type": "execute_result"
    }
   ],
   "source": [
    "df.columns[:31] #columns without gene and mutation info"
   ]
  },
  {
   "cell_type": "code",
   "execution_count": 1422,
   "metadata": {},
   "outputs": [
    {
     "data": {
      "text/plain": [
       "(0.0, 100.0)"
      ]
     },
     "execution_count": 1422,
     "metadata": {},
     "output_type": "execute_result"
    },
    {
     "data": {
      "image/png": "[encoded data removed]",
      "text/plain": [
       "<Figure size 640x480 with 1 Axes>"
      ]
     },
     "metadata": {},
     "output_type": "display_data"
    }
   ],
   "source": [
    "sns.histplot(data=df, x='overall_survival_months',hue='overall_survival')\n",
    "plt.xlim((0,100))"
   ]
  },
  {
   "attachments": {},
   "cell_type": "markdown",
   "metadata": {},
   "source": [
    "## Selecing data set"
   ]
  },
  {
   "attachments": {},
   "cell_type": "markdown",
   "metadata": {},
   "source": [
    "### Breast cancer vs. breast sarcoma \n",
    "Breast sarcoma is a rare form of breast cancer representing less than one percent of all cancers. Unlike most cancers that originate in the milk ducts, breast sarcomas begin in te connective tissue that supports the ducts and lobules of the breast. "
   ]
  },
  {
   "cell_type": "code",
   "execution_count": 1423,
   "metadata": {},
   "outputs": [
    {
     "data": {
      "text/plain": [
       "Text(0.5, 0, 'Cancer type')"
      ]
     },
     "execution_count": 1423,
     "metadata": {},
     "output_type": "execute_result"
    },
    {
     "data": {
      "image/png": "[encoded data removed]",
      "text/plain": [
       "<Figure size 640x480 with 1 Axes>"
      ]
     },
     "metadata": {},
     "output_type": "display_data"
    }
   ],
   "source": [
    "ax = sns.countplot(data=df, x='cancer_type')\n",
    "ax.bar_label(ax.containers[0])\n",
    "plt.xlabel('Cancer type')"
   ]
  },
  {
   "attachments": {},
   "cell_type": "markdown",
   "metadata": {},
   "source": [
    "We will not consider the sole breast sarcoma case in this analysis."
   ]
  },
  {
   "cell_type": "code",
   "execution_count": 1424,
   "metadata": {},
   "outputs": [],
   "source": [
    "#delete instance of breast sarcoma, delete column\n",
    "df=df[df['cancer_type']!='Breast Sarcoma']\n",
    "df.pop('cancer_type');"
   ]
  },
  {
   "attachments": {},
   "cell_type": "markdown",
   "metadata": {},
   "source": [
    "### Stage of cancer \n",
    "| Stage | Description |\n",
    "| ----- | ---------------------------------------|\n",
    "| 0 | Abnormal cells present with the potential to become cancer. |\n",
    "| 1 | Cancer is only in original location and has not spread into neighboring tissue. Surgery can normaly remove the entire tumor. |\n",
    "| 2 - 3 | Cancer is larger and has grown into nearby tissue or lymph nodes. |\n",
    "| 4 | Advanced/metastatic cancer that has spread to other organs. |\n"
   ]
  },
  {
   "cell_type": "code",
   "execution_count": 1425,
   "metadata": {},
   "outputs": [
    {
     "data": {
      "text/plain": [
       "{0.0, 1.0, 2.0, 3.0, 4.0}"
      ]
     },
     "execution_count": 1425,
     "metadata": {},
     "output_type": "execute_result"
    }
   ],
   "source": [
    "#range of tumor stages\n",
    "df = df.dropna(subset='tumor_stage')\n",
    "set(df.tumor_stage.unique())"
   ]
  },
  {
   "cell_type": "code",
   "execution_count": 1426,
   "metadata": {},
   "outputs": [
    {
     "data": {
      "image/png": "[encoded data removed]",
      "text/plain": [
       "<Figure size 640x480 with 1 Axes>"
      ]
     },
     "metadata": {},
     "output_type": "display_data"
    }
   ],
   "source": [
    "#histplot\n",
    "sns.histplot(data=df, x='tumor_stage', bins=5)\n",
    "plt.xlabel('Tumor stage')\n",
    "plt.xticks([0,1,2,3,4]);"
   ]
  },
  {
   "attachments": {},
   "cell_type": "markdown",
   "metadata": {},
   "source": [
    "We only consider stage 1 tumors that have not spread to lyph nodes in this analysis."
   ]
  },
  {
   "cell_type": "code",
   "execution_count": 1427,
   "metadata": {},
   "outputs": [],
   "source": [
    "#df = df[(df['tumor_stage']==1)&(df['lymph_nodes_examined_positive']==0)]\n",
    "del df['lymph_nodes_examined_positive']"
   ]
  },
  {
   "attachments": {},
   "cell_type": "markdown",
   "metadata": {},
   "source": [
    "### Cause of death"
   ]
  },
  {
   "cell_type": "code",
   "execution_count": 1428,
   "metadata": {},
   "outputs": [
    {
     "data": {
      "text/plain": [
       "(array([1, 0], dtype=int64),\n",
       " array(['Living', 'Died of Disease', 'Died of Other Causes', nan],\n",
       "       dtype=object))"
      ]
     },
     "execution_count": 1428,
     "metadata": {},
     "output_type": "execute_result"
    }
   ],
   "source": [
    "df.overall_survival.unique(),df.death_from_cancer.unique()"
   ]
  },
  {
   "cell_type": "code",
   "execution_count": 1429,
   "metadata": {},
   "outputs": [
    {
     "data": {
      "image/png": "[encoded data removed]",
      "text/plain": [
       "<Figure size 1000x400 with 2 Axes>"
      ]
     },
     "metadata": {},
     "output_type": "display_data"
    }
   ],
   "source": [
    "plt.figure(figsize=(10,4))\n",
    "plt.subplot(1,2,1)\n",
    "plt.title('Death breakdown')\n",
    "sns.histplot(data=df,x='death_from_cancer')\n",
    "plt.xlabel('')\n",
    "plt.xticks(rotation=45)\n",
    "plt.subplot(1,2,2)\n",
    "plt.title('Overall survival')\n",
    "plt.pie(((sum(df['overall_survival']),df.shape[0]-sum(df['overall_survival']))),labels=['Survived','Died']);"
   ]
  },
  {
   "attachments": {},
   "cell_type": "markdown",
   "metadata": {},
   "source": [
    "We will consider overall mortality only, so that all other causes of death not directly related to cancer, are counted equally. This is typical in cancer studies as the secondary cause of death is likely fatal due to the underlying presence of cancer."
   ]
  },
  {
   "cell_type": "code",
   "execution_count": 1430,
   "metadata": {},
   "outputs": [],
   "source": [
    "del df['death_from_cancer']"
   ]
  },
  {
   "attachments": {},
   "cell_type": "markdown",
   "metadata": {},
   "source": [
    "## EDA \n",
    "\n",
    "### Age"
   ]
  },
  {
   "cell_type": "code",
   "execution_count": 1431,
   "metadata": {},
   "outputs": [
    {
     "data": {
      "text/plain": [
       "<Axes: xlabel='age_at_diagnosis', ylabel='Count'>"
      ]
     },
     "execution_count": 1431,
     "metadata": {},
     "output_type": "execute_result"
    },
    {
     "data": {
      "image/png": "[encoded data removed]",
      "text/plain": [
       "<Figure size 640x480 with 1 Axes>"
      ]
     },
     "metadata": {},
     "output_type": "display_data"
    }
   ],
   "source": [
    "sns.histplot(data=df, x='age_at_diagnosis',hue='overall_survival',kde=True, bins=10)"
   ]
  },
  {
   "attachments": {},
   "cell_type": "markdown",
   "metadata": {},
   "source": [
    "### Cancer sub-type"
   ]
  },
  {
   "cell_type": "code",
   "execution_count": 1432,
   "metadata": {},
   "outputs": [
    {
     "data": {
      "text/plain": [
       "<Axes: xlabel='pr_status', ylabel='Count'>"
      ]
     },
     "execution_count": 1432,
     "metadata": {},
     "output_type": "execute_result"
    },
    {
     "data": {
      "image/png": "[encoded data removed]",
      "text/plain": [
       "<Figure size 1000x400 with 3 Axes>"
      ]
     },
     "metadata": {},
     "output_type": "display_data"
    }
   ],
   "source": [
    "plt.figure(figsize=(10,4))\n",
    "plt.subplot(1,3,1)\n",
    "sns.histplot(data=df.sort_values('her2_status'), x='her2_status',hue='overall_survival',multiple='dodge')\n",
    "plt.subplot(1,3,2)\n",
    "sns.histplot(data=df.sort_values('er_status'), x='er_status', hue='overall_survival',multiple='dodge',legend=False)\n",
    "plt.tight_layout()\n",
    "plt.subplot(1,3,3)\n",
    "sns.histplot(data=df.sort_values('pr_status'), x='pr_status', hue='overall_survival',multiple='dodge',legend=False)"
   ]
  },
  {
   "cell_type": "code",
   "execution_count": 1433,
   "metadata": {},
   "outputs": [
    {
     "data": {
      "text/plain": [
       "<Axes: xlabel='pam50_+_claudin-low_subtype', ylabel='Count'>"
      ]
     },
     "execution_count": 1433,
     "metadata": {},
     "output_type": "execute_result"
    },
    {
     "data": {
      "image/png": "[encoded data removed]",
      "text/plain": [
       "<Figure size 640x480 with 1 Axes>"
      ]
     },
     "metadata": {},
     "output_type": "display_data"
    }
   ],
   "source": [
    "sns.histplot(data=df, x='pam50_+_claudin-low_subtype', hue='overall_survival', multiple='stack')"
   ]
  },
  {
   "attachments": {},
   "cell_type": "markdown",
   "metadata": {},
   "source": [
    "### Cancer severity"
   ]
  },
  {
   "cell_type": "code",
   "execution_count": 1434,
   "metadata": {},
   "outputs": [
    {
     "data": {
      "image/png": "[encoded data removed]",
      "text/plain": [
       "<Figure size 640x480 with 4 Axes>"
      ]
     },
     "metadata": {},
     "output_type": "display_data"
    }
   ],
   "source": [
    "plt.subplot(2,2,1)\n",
    "sns.histplot(data=df, x='tumor_size',hue='overall_survival', kde=True)\n",
    "#plt.xlim((0,50))\n",
    "plt.xlabel('Tumor size')\n",
    "plt.subplot(2,2,2)\n",
    "sns.histplot(data=df, x='nottingham_prognostic_index',hue='overall_survival',bins=4,legend=False)\n",
    "plt.xlabel('Nottingham index')\n",
    "plt.subplot(2,2,3)\n",
    "sns.histplot(data=df, x='neoplasm_histologic_grade',bins=3,hue='overall_survival',legend=False)\n",
    "plt.xlabel('Neoplasm grade')\n",
    "plt.subplot(2,2,4)\n",
    "#sns.histplot(data=df, x='cellularity',hue='overall_survival',legend=False)\n",
    "plt.xlabel('Cellularity')\n",
    "plt.tight_layout()"
   ]
  },
  {
   "attachments": {},
   "cell_type": "markdown",
   "metadata": {},
   "source": [
    "### Feature correlation to patient mortality"
   ]
  },
  {
   "cell_type": "code",
   "execution_count": 1435,
   "metadata": {},
   "outputs": [
    {
     "data": {
      "text/plain": [
       "(1403, 741)"
      ]
     },
     "execution_count": 1435,
     "metadata": {},
     "output_type": "execute_result"
    }
   ],
   "source": [
    "#encoding features\n",
    "df = pd.get_dummies(df, columns=['type_of_breast_surgery','cancer_type_detailed','cellularity','pam50_+_claudin-low_subtype','er_status','cohort','er_status_measured_by_ihc','inferred_menopausal_state','integrative_cluster','primary_tumor_laterality','oncotree_code','pr_status','3-gene_classifier_subtype','her2_status_measured_by_snp6','her2_status','tumor_other_histologic_subtype'])\n",
    "df.shape"
   ]
  },
  {
   "cell_type": "code",
   "execution_count": 1436,
   "metadata": {},
   "outputs": [],
   "source": [
    "#replace mutant subtypes with wild time (0) or general mutant type (1)\n",
    "for col in df.columns:\n",
    "    if 'mut' in col:\n",
    "        df[col]=np.where((df[col])!='0',1,0)"
   ]
  },
  {
   "cell_type": "code",
   "execution_count": 1437,
   "metadata": {},
   "outputs": [
    {
     "name": "stdout",
     "output_type": "stream",
     "text": [
      "pik3ca_mut\n",
      "tp53_mut\n",
      "muc16_mut\n",
      "ahnak2_mut\n",
      "kmt2c_mut\n",
      "syne1_mut\n",
      "gata3_mut\n",
      "map3k1_mut\n",
      "ahnak_mut\n",
      "dnah11_mut\n",
      "cdh1_mut\n",
      "dnah2_mut\n",
      "kmt2d_mut\n",
      "ush2a_mut\n",
      "ryr2_mut\n",
      "dnah5_mut\n",
      "herc2_mut\n",
      "pde4dip_mut\n",
      "akap9_mut\n",
      "tg_mut\n",
      "birc6_mut\n",
      "utrn_mut\n",
      "tbx3_mut\n",
      "col6a3_mut\n",
      "arid1a_mut\n",
      "lama2_mut\n",
      "notch1_mut\n",
      "cbfb_mut\n",
      "ncor2_mut\n",
      "col12a1_mut\n",
      "col22a1_mut\n",
      "pten_mut\n",
      "akt1_mut\n",
      "atr_mut\n",
      "thada_mut\n",
      "ncor1_mut\n",
      "stab2_mut\n",
      "myh9_mut\n",
      "runx1_mut\n",
      "nf1_mut\n",
      "map2k4_mut\n",
      "ros1_mut\n",
      "lamb3_mut\n",
      "arid1b_mut\n",
      "erbb2_mut\n",
      "sf3b1_mut\n",
      "shank2_mut\n",
      "ep300_mut\n",
      "ptprd_mut\n",
      "usp9x_mut\n",
      "setd2_mut\n",
      "setd1a_mut\n",
      "thsd7a_mut\n",
      "afdn_mut\n",
      "erbb3_mut\n",
      "rb1_mut\n",
      "myo1a_mut\n",
      "alk_mut\n",
      "fanca_mut\n",
      "adgra2_mut\n",
      "ubr5_mut\n",
      "pik3r1_mut\n",
      "myo3a_mut\n",
      "asxl2_mut\n",
      "apc_mut\n",
      "ctcf_mut\n",
      "asxl1_mut\n",
      "fancd2_mut\n",
      "taf1_mut\n",
      "kdm6a_mut\n",
      "ctnna3_mut\n",
      "brca1_mut\n",
      "ptprm_mut\n",
      "foxo3_mut\n",
      "usp28_mut\n",
      "gldc_mut\n",
      "brca2_mut\n",
      "cacna2d3_mut\n",
      "arid2_mut\n",
      "aff2_mut\n",
      "lifr_mut\n",
      "sbno1_mut\n",
      "kdm3a_mut\n",
      "ncoa3_mut\n",
      "bap1_mut\n",
      "l1cam_mut\n",
      "pbrm1_mut\n",
      "chd1_mut\n",
      "jak1_mut\n",
      "setdb1_mut\n",
      "fam20c_mut\n",
      "arid5b_mut\n",
      "egfr_mut\n",
      "map3k10_mut\n",
      "smarcc2_mut\n",
      "erbb4_mut\n",
      "npnt_mut\n",
      "nek1_mut\n",
      "agmo_mut\n",
      "zfp36l1_mut\n",
      "smad4_mut\n",
      "sik1_mut\n",
      "casp8_mut\n",
      "prkcq_mut\n",
      "smarcc1_mut\n",
      "palld_mut\n",
      "dcaf4l2_mut\n",
      "bcas3_mut\n",
      "cdkn1b_mut\n",
      "gps2_mut\n",
      "men1_mut\n",
      "stk11_mut\n",
      "sik2_mut\n",
      "ptpn22_mut\n",
      "brip1_mut\n",
      "flt3_mut\n",
      "nrg3_mut\n",
      "fbxw7_mut\n",
      "ttyh1_mut\n",
      "taf4b_mut\n",
      "or6a2_mut\n",
      "map3k13_mut\n",
      "hdac9_mut\n",
      "prkacg_mut\n",
      "rpgr_mut\n",
      "large1_mut\n",
      "foxp1_mut\n",
      "clk3_mut\n",
      "prkcz_mut\n",
      "lipi_mut\n",
      "ppp2r2a_mut\n",
      "prkce_mut\n",
      "gh1_mut\n",
      "gpr32_mut\n",
      "kras_mut\n",
      "nf2_mut\n",
      "chek2_mut\n",
      "ldlrap1_mut\n",
      "clrn2_mut\n",
      "acvrl1_mut\n",
      "agtr2_mut\n",
      "cdkn2a_mut\n",
      "ctnna1_mut\n",
      "magea8_mut\n",
      "prr16_mut\n",
      "dtwd2_mut\n",
      "akt2_mut\n",
      "braf_mut\n",
      "foxo1_mut\n",
      "nt5e_mut\n",
      "ccnd3_mut\n",
      "nr3c1_mut\n",
      "prkg1_mut\n",
      "tbl1xr1_mut\n",
      "frmd3_mut\n",
      "smad2_mut\n",
      "sgcd_mut\n",
      "spaca1_mut\n",
      "rasgef1b_mut\n",
      "hist1h2bc_mut\n",
      "nr2f1_mut\n",
      "klrg1_mut\n",
      "mbl2_mut\n",
      "mtap_mut\n",
      "ppp2cb_mut\n",
      "smarcd1_mut\n",
      "nras_mut\n",
      "ndfip1_mut\n",
      "hras_mut\n",
      "prps2_mut\n",
      "smarcb1_mut\n",
      "stmn2_mut\n",
      "siah1_mut\n"
     ]
    }
   ],
   "source": [
    "from collections import Counter\n",
    "for col in df:\n",
    "    if '_mut' in col.lower():\n",
    "        print(col)\n",
    "    #df = df[col].where(df[col]!=0,1)\n",
    "    #print(df[col].unique())"
   ]
  },
  {
   "cell_type": "code",
   "execution_count": 1438,
   "metadata": {},
   "outputs": [],
   "source": [
    "#df=pd.get_dummies(df, columns = df.select_dtypes(include='object').columns.values)"
   ]
  },
  {
   "cell_type": "code",
   "execution_count": 1439,
   "metadata": {},
   "outputs": [
    {
     "data": {
      "text/plain": [
       "(1403, 741)"
      ]
     },
     "execution_count": 1439,
     "metadata": {},
     "output_type": "execute_result"
    }
   ],
   "source": [
    "df.shape"
   ]
  },
  {
   "cell_type": "code",
   "execution_count": 1440,
   "metadata": {},
   "outputs": [
    {
     "name": "stdout",
     "output_type": "stream",
     "text": [
      "Top 15 features correlated with death:\n"
     ]
    }
   ],
   "source": [
    "print('Top 15 features correlated with death:')\n",
    "#df.corr(numeric_only=True)['overall_survival'].sort_values()[:15]"
   ]
  },
  {
   "cell_type": "code",
   "execution_count": 1441,
   "metadata": {},
   "outputs": [
    {
     "name": "stdout",
     "output_type": "stream",
     "text": [
      "Top 10 features correlated with survival:\n"
     ]
    }
   ],
   "source": [
    "print('Top 10 features correlated with survival:')\n",
    "#df.corr(numeric_only=True)['overall_survival'].sort_values(ascending=False)[:15]"
   ]
  },
  {
   "cell_type": "code",
   "execution_count": 1442,
   "metadata": {},
   "outputs": [
    {
     "name": "stdout",
     "output_type": "stream",
     "text": [
      "(1403, 741)\n"
     ]
    },
    {
     "data": {
      "text/plain": [
       "(1403, 741)"
      ]
     },
     "execution_count": 1442,
     "metadata": {},
     "output_type": "execute_result"
    }
   ],
   "source": [
    "print(df.shape)\n",
    "df.dropna()\n",
    "df.shape"
   ]
  },
  {
   "cell_type": "code",
   "execution_count": 1443,
   "metadata": {},
   "outputs": [],
   "source": [
    "#selecting features that will be scaled \n",
    "to_scale = [col for col in df if df[col].unique().shape[0] > 2]\n",
    "not_scaled = [col for col in df if df[col].unique().shape[0] <= 2]"
   ]
  },
  {
   "cell_type": "code",
   "execution_count": 1444,
   "metadata": {},
   "outputs": [
    {
     "data": {
      "text/plain": [
       "(2,)"
      ]
     },
     "execution_count": 1444,
     "metadata": {},
     "output_type": "execute_result"
    }
   ],
   "source": [
    "df['3-gene_classifier_subtype_HER2+'].unique().shape"
   ]
  },
  {
   "cell_type": "code",
   "execution_count": 1445,
   "metadata": {},
   "outputs": [
    {
     "data": {
      "text/plain": [
       "0       0\n",
       "1       0\n",
       "2       0\n",
       "3       0\n",
       "4       0\n",
       "       ..\n",
       "1619    0\n",
       "1621    0\n",
       "1623    0\n",
       "1628    0\n",
       "1664    0\n",
       "Name: 3-gene_classifier_subtype_HER2+, Length: 1403, dtype: uint8"
      ]
     },
     "execution_count": 1445,
     "metadata": {},
     "output_type": "execute_result"
    }
   ],
   "source": [
    "df['3-gene_classifier_subtype_HER2+']"
   ]
  },
  {
   "cell_type": "code",
   "execution_count": 1446,
   "metadata": {},
   "outputs": [
    {
     "data": {
      "text/plain": [
       "0       0.6743\n",
       "1      -0.1490\n",
       "2      -0.5960\n",
       "3      -0.2526\n",
       "4       0.2641\n",
       "         ...  \n",
       "1619    0.1636\n",
       "1621    2.5657\n",
       "1623   -0.1486\n",
       "1628    2.6534\n",
       "1664   -1.3747\n",
       "Name: prr16, Length: 1403, dtype: float64"
      ]
     },
     "execution_count": 1446,
     "metadata": {},
     "output_type": "execute_result"
    }
   ],
   "source": [
    "df['prr16']"
   ]
  },
  {
   "cell_type": "code",
   "execution_count": 1447,
   "metadata": {},
   "outputs": [],
   "source": [
    "#normalizing features \n",
    "from sklearn.compose import ColumnTransformer\n",
    "from sklearn.preprocessing import StandardScaler\n",
    "\n",
    "scaler = StandardScaler()\n",
    "col_names = df.columns.values\n",
    "ct = ColumnTransformer(transformers=[\n",
    "    ('rescaled',scaler,to_scale)],remainder='passthrough'\n",
    ")\n",
    "#df = pd.DataFrame(scaler.fit_transform(df[to_scale]), columns=to_scale)\n",
    "df = ct.fit_transform(df)\n",
    "df = pd.DataFrame(df,columns=col_names)"
   ]
  },
  {
   "cell_type": "code",
   "execution_count": 1448,
   "metadata": {},
   "outputs": [
    {
     "data": {
      "text/plain": [
       "True"
      ]
     },
     "execution_count": 1448,
     "metadata": {},
     "output_type": "execute_result"
    }
   ],
   "source": [
    "'3-gene_classifier_subtype_HER2+' in df.columns"
   ]
  },
  {
   "cell_type": "code",
   "execution_count": 1449,
   "metadata": {},
   "outputs": [
    {
     "data": {
      "text/plain": [
       "0       0.0\n",
       "1       0.0\n",
       "2       0.0\n",
       "3       0.0\n",
       "4       0.0\n",
       "       ... \n",
       "1398    0.0\n",
       "1399    0.0\n",
       "1400    0.0\n",
       "1401    0.0\n",
       "1402    0.0\n",
       "Name: 3-gene_classifier_subtype_HER2+, Length: 1403, dtype: float64"
      ]
     },
     "execution_count": 1449,
     "metadata": {},
     "output_type": "execute_result"
    }
   ],
   "source": [
    "df['3-gene_classifier_subtype_HER2+']"
   ]
  },
  {
   "cell_type": "code",
   "execution_count": 1453,
   "metadata": {},
   "outputs": [
    {
     "data": {
      "text/plain": [
       "count    1.403000e+03\n",
       "mean     7.596679e-18\n",
       "std      1.000357e+00\n",
       "min     -2.348099e+00\n",
       "25%     -5.424970e-01\n",
       "50%     -1.334564e-01\n",
       "75%      3.566642e-01\n",
       "max      1.103840e+01\n",
       "Name: prr16, dtype: float64"
      ]
     },
     "execution_count": 1453,
     "metadata": {},
     "output_type": "execute_result"
    }
   ],
   "source": [
    "df['prr16'].describe()"
   ]
  },
  {
   "cell_type": "code",
   "execution_count": 1451,
   "metadata": {},
   "outputs": [
    {
     "data": {
      "text/html": [
       "<div>\n",
       "<style scoped>\n",
       "    .dataframe tbody tr th:only-of-type {\n",
       "        vertical-align: middle;\n",
       "    }\n",
       "\n",
       "    .dataframe tbody tr th {\n",
       "        vertical-align: top;\n",
       "    }\n",
       "\n",
       "    .dataframe thead th {\n",
       "        text-align: right;\n",
       "    }\n",
       "</style>\n",
       "<table border=\"1\" class=\"dataframe\">\n",
       "  <thead>\n",
       "    <tr style=\"text-align: right;\">\n",
       "      <th></th>\n",
       "      <th>patient_id</th>\n",
       "      <th>age_at_diagnosis</th>\n",
       "      <th>chemotherapy</th>\n",
       "      <th>neoplasm_histologic_grade</th>\n",
       "      <th>hormone_therapy</th>\n",
       "      <th>mutation_count</th>\n",
       "      <th>nottingham_prognostic_index</th>\n",
       "      <th>overall_survival_months</th>\n",
       "      <th>overall_survival</th>\n",
       "      <th>radio_therapy</th>\n",
       "      <th>...</th>\n",
       "      <th>her2_status_Negative</th>\n",
       "      <th>her2_status_Positive</th>\n",
       "      <th>tumor_other_histologic_subtype_Ductal/NST</th>\n",
       "      <th>tumor_other_histologic_subtype_Lobular</th>\n",
       "      <th>tumor_other_histologic_subtype_Medullary</th>\n",
       "      <th>tumor_other_histologic_subtype_Metaplastic</th>\n",
       "      <th>tumor_other_histologic_subtype_Mixed</th>\n",
       "      <th>tumor_other_histologic_subtype_Mucinous</th>\n",
       "      <th>tumor_other_histologic_subtype_Other</th>\n",
       "      <th>tumor_other_histologic_subtype_Tubular/ cribriform</th>\n",
       "    </tr>\n",
       "  </thead>\n",
       "  <tbody>\n",
       "    <tr>\n",
       "      <th>count</th>\n",
       "      <td>1403.000000</td>\n",
       "      <td>1.403000e+03</td>\n",
       "      <td>1.356000e+03</td>\n",
       "      <td>1.403000e+03</td>\n",
       "      <td>1.403000e+03</td>\n",
       "      <td>1.400000e+03</td>\n",
       "      <td>1.403000e+03</td>\n",
       "      <td>1.403000e+03</td>\n",
       "      <td>1.403000e+03</td>\n",
       "      <td>1.403000e+03</td>\n",
       "      <td>...</td>\n",
       "      <td>1403.000000</td>\n",
       "      <td>1403.000000</td>\n",
       "      <td>1403.000000</td>\n",
       "      <td>1403.000000</td>\n",
       "      <td>1403.000000</td>\n",
       "      <td>1403.000000</td>\n",
       "      <td>1403.000000</td>\n",
       "      <td>1403.000000</td>\n",
       "      <td>1403.000000</td>\n",
       "      <td>1403.000000</td>\n",
       "    </tr>\n",
       "    <tr>\n",
       "      <th>mean</th>\n",
       "      <td>0.000000</td>\n",
       "      <td>7.191523e-16</td>\n",
       "      <td>-2.095996e-16</td>\n",
       "      <td>-4.152851e-16</td>\n",
       "      <td>8.103125e-17</td>\n",
       "      <td>-2.030122e-17</td>\n",
       "      <td>1.785220e-16</td>\n",
       "      <td>1.012891e-17</td>\n",
       "      <td>1.772558e-17</td>\n",
       "      <td>2.532226e-17</td>\n",
       "      <td>...</td>\n",
       "      <td>0.876693</td>\n",
       "      <td>0.123307</td>\n",
       "      <td>0.751960</td>\n",
       "      <td>0.071989</td>\n",
       "      <td>0.012830</td>\n",
       "      <td>0.000713</td>\n",
       "      <td>0.122594</td>\n",
       "      <td>0.012117</td>\n",
       "      <td>0.007128</td>\n",
       "      <td>0.014255</td>\n",
       "    </tr>\n",
       "    <tr>\n",
       "      <th>std</th>\n",
       "      <td>1.000357</td>\n",
       "      <td>1.000357e+00</td>\n",
       "      <td>1.000369e+00</td>\n",
       "      <td>1.000357e+00</td>\n",
       "      <td>1.000357e+00</td>\n",
       "      <td>1.000357e+00</td>\n",
       "      <td>1.000357e+00</td>\n",
       "      <td>1.000357e+00</td>\n",
       "      <td>1.000357e+00</td>\n",
       "      <td>1.000357e+00</td>\n",
       "      <td>...</td>\n",
       "      <td>0.328907</td>\n",
       "      <td>0.328907</td>\n",
       "      <td>0.432029</td>\n",
       "      <td>0.258561</td>\n",
       "      <td>0.112579</td>\n",
       "      <td>0.026698</td>\n",
       "      <td>0.328088</td>\n",
       "      <td>0.109447</td>\n",
       "      <td>0.084154</td>\n",
       "      <td>0.118583</td>\n",
       "    </tr>\n",
       "    <tr>\n",
       "      <th>min</th>\n",
       "      <td>-1.492221</td>\n",
       "      <td>-2.978015e+00</td>\n",
       "      <td>-2.234165e+00</td>\n",
       "      <td>-2.663433e+00</td>\n",
       "      <td>-1.636299e+00</td>\n",
       "      <td>-1.668897e+00</td>\n",
       "      <td>-2.784040e+00</td>\n",
       "      <td>-2.444452e+00</td>\n",
       "      <td>-2.778052e+00</td>\n",
       "      <td>-3.793365e+00</td>\n",
       "      <td>...</td>\n",
       "      <td>0.000000</td>\n",
       "      <td>0.000000</td>\n",
       "      <td>0.000000</td>\n",
       "      <td>0.000000</td>\n",
       "      <td>0.000000</td>\n",
       "      <td>0.000000</td>\n",
       "      <td>0.000000</td>\n",
       "      <td>0.000000</td>\n",
       "      <td>0.000000</td>\n",
       "      <td>0.000000</td>\n",
       "    </tr>\n",
       "    <tr>\n",
       "      <th>25%</th>\n",
       "      <td>-1.238293</td>\n",
       "      <td>-7.389750e-01</td>\n",
       "      <td>-6.805611e-01</td>\n",
       "      <td>-8.771733e-01</td>\n",
       "      <td>-8.442952e-01</td>\n",
       "      <td>-5.944330e-01</td>\n",
       "      <td>-1.193646e+00</td>\n",
       "      <td>-7.161475e-01</td>\n",
       "      <td>-6.905934e-01</td>\n",
       "      <td>-6.846708e-01</td>\n",
       "      <td>...</td>\n",
       "      <td>1.000000</td>\n",
       "      <td>0.000000</td>\n",
       "      <td>1.000000</td>\n",
       "      <td>0.000000</td>\n",
       "      <td>0.000000</td>\n",
       "      <td>0.000000</td>\n",
       "      <td>0.000000</td>\n",
       "      <td>0.000000</td>\n",
       "      <td>0.000000</td>\n",
       "      <td>0.000000</td>\n",
       "    </tr>\n",
       "    <tr>\n",
       "      <th>50%</th>\n",
       "      <td>0.165598</td>\n",
       "      <td>4.101062e-02</td>\n",
       "      <td>8.730430e-01</td>\n",
       "      <td>9.683898e-04</td>\n",
       "      <td>-1.296751e-01</td>\n",
       "      <td>-2.586629e-01</td>\n",
       "      <td>3.967484e-01</td>\n",
       "      <td>-1.128555e-01</td>\n",
       "      <td>-5.575020e-02</td>\n",
       "      <td>-2.640985e-02</td>\n",
       "      <td>...</td>\n",
       "      <td>1.000000</td>\n",
       "      <td>0.000000</td>\n",
       "      <td>1.000000</td>\n",
       "      <td>0.000000</td>\n",
       "      <td>0.000000</td>\n",
       "      <td>0.000000</td>\n",
       "      <td>0.000000</td>\n",
       "      <td>0.000000</td>\n",
       "      <td>0.000000</td>\n",
       "      <td>0.000000</td>\n",
       "    </tr>\n",
       "    <tr>\n",
       "      <th>75%</th>\n",
       "      <td>0.925471</td>\n",
       "      <td>7.154574e-01</td>\n",
       "      <td>8.730430e-01</td>\n",
       "      <td>8.826367e-01</td>\n",
       "      <td>7.850300e-01</td>\n",
       "      <td>2.785693e-01</td>\n",
       "      <td>3.967484e-01</td>\n",
       "      <td>5.495790e-01</td>\n",
       "      <td>6.185970e-01</td>\n",
       "      <td>6.604065e-01</td>\n",
       "      <td>...</td>\n",
       "      <td>1.000000</td>\n",
       "      <td>0.000000</td>\n",
       "      <td>1.000000</td>\n",
       "      <td>0.000000</td>\n",
       "      <td>0.000000</td>\n",
       "      <td>0.000000</td>\n",
       "      <td>0.000000</td>\n",
       "      <td>0.000000</td>\n",
       "      <td>0.000000</td>\n",
       "      <td>0.000000</td>\n",
       "    </tr>\n",
       "    <tr>\n",
       "      <th>max</th>\n",
       "      <td>1.539628</td>\n",
       "      <td>2.750353e+00</td>\n",
       "      <td>8.730430e-01</td>\n",
       "      <td>2.044676e+00</td>\n",
       "      <td>2.864333e+00</td>\n",
       "      <td>1.035167e+01</td>\n",
       "      <td>3.577537e+00</td>\n",
       "      <td>4.594895e+00</td>\n",
       "      <td>3.612464e+00</td>\n",
       "      <td>3.911262e+00</td>\n",
       "      <td>...</td>\n",
       "      <td>1.000000</td>\n",
       "      <td>1.000000</td>\n",
       "      <td>1.000000</td>\n",
       "      <td>1.000000</td>\n",
       "      <td>1.000000</td>\n",
       "      <td>1.000000</td>\n",
       "      <td>1.000000</td>\n",
       "      <td>1.000000</td>\n",
       "      <td>1.000000</td>\n",
       "      <td>1.000000</td>\n",
       "    </tr>\n",
       "  </tbody>\n",
       "</table>\n",
       "<p>8 rows × 741 columns</p>\n",
       "</div>"
      ],
      "text/plain": [
       "        patient_id  age_at_diagnosis  chemotherapy  neoplasm_histologic_grade  \\\n",
       "count  1403.000000      1.403000e+03  1.356000e+03               1.403000e+03   \n",
       "mean      0.000000      7.191523e-16 -2.095996e-16              -4.152851e-16   \n",
       "std       1.000357      1.000357e+00  1.000369e+00               1.000357e+00   \n",
       "min      -1.492221     -2.978015e+00 -2.234165e+00              -2.663433e+00   \n",
       "25%      -1.238293     -7.389750e-01 -6.805611e-01              -8.771733e-01   \n",
       "50%       0.165598      4.101062e-02  8.730430e-01               9.683898e-04   \n",
       "75%       0.925471      7.154574e-01  8.730430e-01               8.826367e-01   \n",
       "max       1.539628      2.750353e+00  8.730430e-01               2.044676e+00   \n",
       "\n",
       "       hormone_therapy  mutation_count  nottingham_prognostic_index  \\\n",
       "count     1.403000e+03    1.400000e+03                 1.403000e+03   \n",
       "mean      8.103125e-17   -2.030122e-17                 1.785220e-16   \n",
       "std       1.000357e+00    1.000357e+00                 1.000357e+00   \n",
       "min      -1.636299e+00   -1.668897e+00                -2.784040e+00   \n",
       "25%      -8.442952e-01   -5.944330e-01                -1.193646e+00   \n",
       "50%      -1.296751e-01   -2.586629e-01                 3.967484e-01   \n",
       "75%       7.850300e-01    2.785693e-01                 3.967484e-01   \n",
       "max       2.864333e+00    1.035167e+01                 3.577537e+00   \n",
       "\n",
       "       overall_survival_months  overall_survival  radio_therapy  ...  \\\n",
       "count             1.403000e+03      1.403000e+03   1.403000e+03  ...   \n",
       "mean              1.012891e-17      1.772558e-17   2.532226e-17  ...   \n",
       "std               1.000357e+00      1.000357e+00   1.000357e+00  ...   \n",
       "min              -2.444452e+00     -2.778052e+00  -3.793365e+00  ...   \n",
       "25%              -7.161475e-01     -6.905934e-01  -6.846708e-01  ...   \n",
       "50%              -1.128555e-01     -5.575020e-02  -2.640985e-02  ...   \n",
       "75%               5.495790e-01      6.185970e-01   6.604065e-01  ...   \n",
       "max               4.594895e+00      3.612464e+00   3.911262e+00  ...   \n",
       "\n",
       "       her2_status_Negative  her2_status_Positive  \\\n",
       "count           1403.000000           1403.000000   \n",
       "mean               0.876693              0.123307   \n",
       "std                0.328907              0.328907   \n",
       "min                0.000000              0.000000   \n",
       "25%                1.000000              0.000000   \n",
       "50%                1.000000              0.000000   \n",
       "75%                1.000000              0.000000   \n",
       "max                1.000000              1.000000   \n",
       "\n",
       "       tumor_other_histologic_subtype_Ductal/NST  \\\n",
       "count                                1403.000000   \n",
       "mean                                    0.751960   \n",
       "std                                     0.432029   \n",
       "min                                     0.000000   \n",
       "25%                                     1.000000   \n",
       "50%                                     1.000000   \n",
       "75%                                     1.000000   \n",
       "max                                     1.000000   \n",
       "\n",
       "       tumor_other_histologic_subtype_Lobular  \\\n",
       "count                             1403.000000   \n",
       "mean                                 0.071989   \n",
       "std                                  0.258561   \n",
       "min                                  0.000000   \n",
       "25%                                  0.000000   \n",
       "50%                                  0.000000   \n",
       "75%                                  0.000000   \n",
       "max                                  1.000000   \n",
       "\n",
       "       tumor_other_histologic_subtype_Medullary  \\\n",
       "count                               1403.000000   \n",
       "mean                                   0.012830   \n",
       "std                                    0.112579   \n",
       "min                                    0.000000   \n",
       "25%                                    0.000000   \n",
       "50%                                    0.000000   \n",
       "75%                                    0.000000   \n",
       "max                                    1.000000   \n",
       "\n",
       "       tumor_other_histologic_subtype_Metaplastic  \\\n",
       "count                                 1403.000000   \n",
       "mean                                     0.000713   \n",
       "std                                      0.026698   \n",
       "min                                      0.000000   \n",
       "25%                                      0.000000   \n",
       "50%                                      0.000000   \n",
       "75%                                      0.000000   \n",
       "max                                      1.000000   \n",
       "\n",
       "       tumor_other_histologic_subtype_Mixed  \\\n",
       "count                           1403.000000   \n",
       "mean                               0.122594   \n",
       "std                                0.328088   \n",
       "min                                0.000000   \n",
       "25%                                0.000000   \n",
       "50%                                0.000000   \n",
       "75%                                0.000000   \n",
       "max                                1.000000   \n",
       "\n",
       "       tumor_other_histologic_subtype_Mucinous  \\\n",
       "count                              1403.000000   \n",
       "mean                                  0.012117   \n",
       "std                                   0.109447   \n",
       "min                                   0.000000   \n",
       "25%                                   0.000000   \n",
       "50%                                   0.000000   \n",
       "75%                                   0.000000   \n",
       "max                                   1.000000   \n",
       "\n",
       "       tumor_other_histologic_subtype_Other  \\\n",
       "count                           1403.000000   \n",
       "mean                               0.007128   \n",
       "std                                0.084154   \n",
       "min                                0.000000   \n",
       "25%                                0.000000   \n",
       "50%                                0.000000   \n",
       "75%                                0.000000   \n",
       "max                                1.000000   \n",
       "\n",
       "       tumor_other_histologic_subtype_Tubular/ cribriform  \n",
       "count                                        1403.000000   \n",
       "mean                                            0.014255   \n",
       "std                                             0.118583   \n",
       "min                                             0.000000   \n",
       "25%                                             0.000000   \n",
       "50%                                             0.000000   \n",
       "75%                                             0.000000   \n",
       "max                                             1.000000   \n",
       "\n",
       "[8 rows x 741 columns]"
      ]
     },
     "execution_count": 1451,
     "metadata": {},
     "output_type": "execute_result"
    }
   ],
   "source": [
    "df.describe()"
   ]
  },
  {
   "attachments": {},
   "cell_type": "markdown",
   "metadata": {},
   "source": [
    "### Genetic features of interest"
   ]
  },
  {
   "cell_type": "code",
   "execution_count": 1452,
   "metadata": {},
   "outputs": [
    {
     "ename": "SyntaxError",
     "evalue": "invalid syntax (1727581411.py, line 1)",
     "output_type": "error",
     "traceback": [
      "\u001b[1;36m  Cell \u001b[1;32mIn[1452], line 1\u001b[1;36m\u001b[0m\n\u001b[1;33m    from sklearn.tree\u001b[0m\n\u001b[1;37m                     ^\u001b[0m\n\u001b[1;31mSyntaxError\u001b[0m\u001b[1;31m:\u001b[0m invalid syntax\n"
     ]
    }
   ],
   "source": [
    "from sklearn.tree"
   ]
  }
 ],
 "metadata": {
  "kernelspec": {
   "display_name": "python310",
   "language": "python",
   "name": "python3"
  },
  "language_info": {
   "codemirror_mode": {
    "name": "ipython",
    "version": 3
   },
   "file_extension": ".py",
   "mimetype": "text/x-python",
   "name": "python",
   "nbconvert_exporter": "python",
   "pygments_lexer": "ipython3",
   "version": "3.10.0"
  },
  "orig_nbformat": 4
 },
 "nbformat": 4,
 "nbformat_minor": 2
}
